{
  "nbformat": 4,
  "nbformat_minor": 0,
  "metadata": {
    "colab": {
      "name": "read_Data.ipynb",
      "version": "0.3.2",
      "provenance": [],
      "include_colab_link": true
    },
    "kernelspec": {
      "name": "python3",
      "display_name": "Python 3"
    }
  },
  "cells": [
    {
      "cell_type": "markdown",
      "metadata": {
        "id": "view-in-github",
        "colab_type": "text"
      },
      "source": [
        "<a href=\"https://colab.research.google.com/github/Zhengro/DL-Identification/blob/jaume/read_Data.ipynb\" target=\"_parent\"><img src=\"https://colab.research.google.com/assets/colab-badge.svg\" alt=\"Open In Colab\"/></a>"
      ]
    },
    {
      "metadata": {
        "id": "ogiiW4D1MwhI",
        "colab_type": "code",
        "colab": {}
      },
      "cell_type": "code",
      "source": [
        "import numpy as np\n",
        "\n",
        "__author__ = 'Jaume Anguera Peris'\n",
        "\n",
        "class dataReader:\n",
        "\t\"\"\"\n",
        "\tThis class is responsible for reading the data that will be used for\n",
        "\tthe identification system.\n",
        "\t---------------------------------------------------------------------\n",
        "\tAttributes\n",
        "\t\t1. fileData_str - indicates where the data is stored. The file is\n",
        "\t\t   generated using the using the Matlab code from Linghui\n",
        "\t\t2. fileData - matrix with all the features of all the users in the DB\n",
        "\t\t3. num_users - number of users in the DB\n",
        "\t\t4. num_features - number of features of each user\n",
        "\n",
        "\tFunctions\n",
        "\t\t1. read_fileData_fromFile - creates a list of with all the user's data.\n",
        "\t\t   Each element in the list is a feature vector of one user\n",
        "\t\t2. convert_str2int_matrix - converts the list of feature vectors to a\n",
        "\t\t   matrix that can be used as a mathematical object\n",
        "\t---------------------------------------------------------------------\n",
        "\t\"\"\"\n",
        "\n",
        "\t# Initialization\n",
        "\tdef __init__(self, file_path):\n",
        "\t\tself.file_path = file_path\n",
        "\t\tself.initialize()\n",
        "\n",
        "\tdef initialize(self):\n",
        "\t\tfileData_str = self.read_data_fromFile()\n",
        "\t\tself.fileData = self.convert_str2int_matrix(fileData_str)\n",
        "\t\tself.num_entries = self.fileData.shape[0]\n",
        "\t\tself.num_features = self.fileData.shape[1]\n",
        "\n",
        "\t# Functions\n",
        "\tdef read_data_fromFile(self):\n",
        "\t\tfileID = open(self.file_path,'r')\n",
        "\t\tfileData = []\n",
        "\n",
        "\t\tfor line in fileID.readlines():\n",
        "\t\t\tline = line.strip()\n",
        "\t\t\tfileData.append(line.split(','))\n",
        "\n",
        "\t\tfileID.close()\n",
        "\t\treturn(fileData)\n",
        "\n",
        "\n",
        "\tdef convert_str2int_matrix(self, fileData_str):\n",
        "\t\tfileData_int = []\n",
        "\n",
        "\t\tfor vec in fileData_str:\n",
        "\t\t\tfileData_int.append(list(map(int,vec)))\n",
        "\n",
        "\t\treturn(np.array(fileData_int))\n",
        "\n",
        "\n",
        "\tdef get_info(self):\n",
        "\t\tprint(\"The data is stored in %s\" % self.file_path)\n",
        "\t\tprint(\"There is a total of %d entries\" % self.num_entries)\n",
        "\t\tprint(\"Each entry has %d features\" % self.num_features)\n"
      ],
      "execution_count": 0,
      "outputs": []
    }
  ]
}