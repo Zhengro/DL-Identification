{
  "nbformat": 4,
  "nbformat_minor": 0,
  "metadata": {
    "colab": {
      "name": "Map_noisyObs_to_indexes.ipynb",
      "version": "0.3.2",
      "provenance": [],
      "collapsed_sections": [
        "L_VBD6oZCJVa",
        "f5BajNayig3N"
      ],
      "include_colab_link": true
    },
    "kernelspec": {
      "name": "python3",
      "display_name": "Python 3"
    }
  },
  "cells": [
    {
      "cell_type": "markdown",
      "metadata": {
        "id": "view-in-github",
        "colab_type": "text"
      },
      "source": [
        "<a href=\"https://colab.research.google.com/github/Zhengro/DL-Identification/blob/jaume/Map_noisyObs_to_indexes.ipynb\" target=\"_parent\"><img src=\"https://colab.research.google.com/assets/colab-badge.svg\" alt=\"Open In Colab\"/></a>"
      ]
    },
    {
      "metadata": {
        "id": "bGbpez8STyqr",
        "colab_type": "code",
        "colab": {}
      },
      "cell_type": "code",
      "source": [
        "__author__ = ''"
      ],
      "execution_count": 0,
      "outputs": []
    },
    {
      "metadata": {
        "id": "R391B8_NbeYO",
        "colab_type": "text"
      },
      "cell_type": "markdown",
      "source": [
        "## Import all necessary libraries"
      ]
    },
    {
      "metadata": {
        "id": "epcN9Bbvb2fG",
        "colab_type": "code",
        "colab": {}
      },
      "cell_type": "code",
      "source": [
        "# Load main libraries for the project\n",
        "from sklearn.neural_network import MLPClassifier\n",
        "from sklearn.linear_model import LogisticRegression\n",
        "from sklearn.model_selection import train_test_split\n",
        "import numpy as np"
      ],
      "execution_count": 0,
      "outputs": []
    },
    {
      "metadata": {
        "id": "ere48ST6G7jz",
        "colab_type": "text"
      },
      "cell_type": "markdown",
      "source": [
        "## Get users' data"
      ]
    },
    {
      "metadata": {
        "id": "L_VBD6oZCJVa",
        "colab_type": "text"
      },
      "cell_type": "markdown",
      "source": [
        "### Option 1 - Establish connection with Google Drive and read users' data from txt/npy files"
      ]
    },
    {
      "metadata": {
        "id": "8fUeRaMX55rK",
        "colab_type": "code",
        "colab": {}
      },
      "cell_type": "code",
      "source": [
        "# Load the Drive helper and mount\n",
        "from google.colab import drive\n",
        "drive.mount('/content/drive')"
      ],
      "execution_count": 0,
      "outputs": []
    },
    {
      "metadata": {
        "id": "yvoM3Y3VWabw",
        "colab_type": "code",
        "colab": {}
      },
      "cell_type": "code",
      "source": [
        "# All the data needed for this notebook is stored in MAIN_PATH\n",
        "MAIN_PATH = \"/content/drive/My Drive/Colab Notebooks/\""
      ],
      "execution_count": 0,
      "outputs": []
    },
    {
      "metadata": {
        "id": "if39yBbY6Dj1",
        "colab_type": "code",
        "colab": {}
      },
      "cell_type": "code",
      "source": [
        "# Path to all the binary data\n",
        "DATA_FILENAME = MAIN_PATH + 'data/userData_500_256.npy'\n",
        "\n",
        "# Read data\n",
        "userData = np.load(DATA_FILENAME)\n",
        "\n",
        "# Create main parameters\n",
        "NUM_USERS, NUM_FEATURES = userData.shape\n",
        "\n",
        "print(NUM_USERS)\n",
        "print(NUM_FEATURES)"
      ],
      "execution_count": 0,
      "outputs": []
    },
    {
      "metadata": {
        "id": "f5BajNayig3N",
        "colab_type": "text"
      },
      "cell_type": "markdown",
      "source": [
        "### Option 2 - Generate users' data"
      ]
    },
    {
      "metadata": {
        "id": "k4Y2mpIiigSz",
        "colab_type": "code",
        "colab": {
          "base_uri": "https://localhost:8080/",
          "height": 68
        },
        "outputId": "795c8507-49b3-47eb-ba40-396a4837f5dd"
      },
      "cell_type": "code",
      "source": [
        "# Main parameters\n",
        "NUM_USERS = 1000\n",
        "NUM_FEATURES = 64\n",
        "NUM_HIDDEN_NODES = 2*NUM_FEATURES\n",
        "bsc_e = 0.20\n",
        "\n",
        "# Check that NUM_HIDDEN_NODES < NUM_USERS\n",
        "while NUM_HIDDEN_NODES > NUM_USERS:\n",
        "    NUM_HIDDEN_NODES = int( NUM_HIDDEN_NODES / 2 ) \n",
        "\n",
        "# Generate user data\n",
        "userData = np.random.choice([0,1],(NUM_USERS,NUM_FEATURES))\n",
        "\n",
        "# Information about the data and design of the NN\n",
        "print(\"Number of nodes in the input layer: %d nodes\" % NUM_FEATURES)\n",
        "print(\"Number of nodes in the hidden layer: %d nodes\" % NUM_HIDDEN_NODES)\n",
        "print(\"Number of nodes in the output layer: %d nodes\" % NUM_USERS)"
      ],
      "execution_count": 66,
      "outputs": [
        {
          "output_type": "stream",
          "text": [
            "Number of nodes in the input layer: 64 nodes\n",
            "Number of nodes in the hidden layer: 128 nodes\n",
            "Number of nodes in the output layer: 1000 nodes\n"
          ],
          "name": "stdout"
        }
      ]
    },
    {
      "metadata": {
        "id": "Tv6_Vt5xjI7-",
        "colab_type": "text"
      },
      "cell_type": "markdown",
      "source": [
        "## Binary Simmetric Channel"
      ]
    },
    {
      "metadata": {
        "id": "Fx_wbnuH2gsL",
        "colab_type": "code",
        "colab": {}
      },
      "cell_type": "code",
      "source": [
        "def bsc(bit_sequence, bsc_e):\n",
        "    \"\"\"\n",
        "    Binary Symmetric Channel.\n",
        "    \n",
        "    Parameters\n",
        "    ----------\n",
        "    bit_sequence : 1D ndarray containing {0, 1}\n",
        "        Input arrary of bits to the channel.\n",
        "    bsc_e : float in [0, 1]\n",
        "        Transition/Error probability of the channel.\n",
        "    \n",
        "    Returns\n",
        "    -------\n",
        "    output_bits : 1D ndarray containing {0, 1}\n",
        "        Output bits from the channel.\n",
        "    \"\"\"\n",
        "    flipped_bits = np.random.choice([0,1],bit_sequence.shape,p=[1.0-bsc_e,bsc_e])\n",
        "    output_bits = np.absolute(np.subtract(bit_sequence,flipped_bits))\n",
        "    return output_bits"
      ],
      "execution_count": 0,
      "outputs": []
    },
    {
      "metadata": {
        "id": "ECJcS7hk9cS_",
        "colab_type": "code",
        "outputId": "804e8d83-7635-47d7-84a2-9528daf7bed6",
        "colab": {
          "base_uri": "https://localhost:8080/",
          "height": 34
        }
      },
      "cell_type": "code",
      "source": [
        "# Test bsc function\n",
        "input_bits = np.zeros((100,1))\n",
        "output_bits = bsc(input_bits,bsc_e)\n",
        "print(np.count_nonzero(output_bits)/output_bits.shape[0])\n"
      ],
      "execution_count": 68,
      "outputs": [
        {
          "output_type": "stream",
          "text": [
            "0.25\n"
          ],
          "name": "stdout"
        }
      ]
    },
    {
      "metadata": {
        "id": "xRKz-4BHdJfo",
        "colab_type": "text"
      },
      "cell_type": "markdown",
      "source": [
        "## Neural Network Identification algorithm"
      ]
    },
    {
      "metadata": {
        "id": "o8CX87XjHsMF",
        "colab_type": "text"
      },
      "cell_type": "markdown",
      "source": [
        "### Training"
      ]
    },
    {
      "metadata": {
        "id": "sH_SjKUoWPQF",
        "colab_type": "code",
        "outputId": "0ec9fe8e-8336-480c-ff94-a8510e801712",
        "colab": {
          "base_uri": "https://localhost:8080/",
          "height": 85
        }
      },
      "cell_type": "code",
      "source": [
        "# Construct train set and test set\n",
        "NUM_SAMPLES = 100 # Number of noisy samples for each user\n",
        "X = np.zeros((NUM_USERS*NUM_SAMPLES,NUM_FEATURES))\n",
        "Y = np.zeros((NUM_USERS*NUM_SAMPLES, 1))\n",
        "\n",
        "for k in range(NUM_USERS):\n",
        "    for n in range(NUM_SAMPLES):\n",
        "        X[n + k*NUM_SAMPLES, :] = bsc(np.int_(userData[k, :]), bsc_e)\n",
        "        Y[n + k*NUM_SAMPLES, :] = k\n",
        "\n",
        "train_data, test_data, train_labels, test_labels = train_test_split(X,Y,test_size=0.2,shuffle=True)\n",
        "\n",
        "\n",
        "# Information about the training and the testing data\n",
        "print(train_data.shape)\n",
        "print(test_data.shape)\n",
        "print(train_labels.shape)\n",
        "print(test_labels.shape)"
      ],
      "execution_count": 72,
      "outputs": [
        {
          "output_type": "stream",
          "text": [
            "(64000, 64)\n",
            "(16000, 64)\n",
            "(64000, 1)\n",
            "(16000, 1)\n"
          ],
          "name": "stdout"
        }
      ]
    },
    {
      "metadata": {
        "id": "KBv0KP1qE1iG",
        "colab_type": "code",
        "colab": {
          "base_uri": "https://localhost:8080/",
          "height": 717
        },
        "outputId": "f38c06e1-5f9b-4863-a668-e7b928455c73"
      },
      "cell_type": "code",
      "source": [
        "# Build MLP model and train the NN\n",
        "clf = MLPClassifier(hidden_layer_sizes=(NUM_HIDDEN_NODES), activation='relu',\n",
        "                    solver='adam', verbose=True, alpha=0.001, early_stopping=True) \n",
        "clf.fit(train_data,train_labels)"
      ],
      "execution_count": 73,
      "outputs": [
        {
          "output_type": "stream",
          "text": [
            "/usr/local/lib/python3.6/dist-packages/sklearn/neural_network/multilayer_perceptron.py:912: DataConversionWarning: A column-vector y was passed when a 1d array was expected. Please change the shape of y to (n_samples, ), for example using ravel().\n",
            "  y = column_or_1d(y, warn=True)\n"
          ],
          "name": "stderr"
        },
        {
          "output_type": "stream",
          "text": [
            "Iteration 1, loss = 5.59534706\n",
            "Validation score: 0.582500\n",
            "Iteration 2, loss = 2.22711481\n",
            "Validation score: 0.836250\n",
            "Iteration 3, loss = 0.82355605\n",
            "Validation score: 0.875625\n",
            "Iteration 4, loss = 0.48754321\n",
            "Validation score: 0.892969\n",
            "Iteration 5, loss = 0.34737798\n",
            "Validation score: 0.903125\n",
            "Iteration 6, loss = 0.26731112\n",
            "Validation score: 0.906250\n",
            "Iteration 7, loss = 0.21437999\n",
            "Validation score: 0.910469\n",
            "Iteration 8, loss = 0.17561350\n",
            "Validation score: 0.910937\n",
            "Iteration 9, loss = 0.14609349\n",
            "Validation score: 0.911875\n",
            "Iteration 10, loss = 0.12371117\n",
            "Validation score: 0.910625\n",
            "Iteration 11, loss = 0.10392714\n",
            "Validation score: 0.910469\n",
            "Iteration 12, loss = 0.08903636\n",
            "Validation score: 0.913281\n",
            "Iteration 13, loss = 0.07782672\n",
            "Validation score: 0.907969\n",
            "Iteration 14, loss = 0.06909702\n",
            "Validation score: 0.910625\n",
            "Iteration 15, loss = 0.06006335\n",
            "Validation score: 0.910156\n",
            "Validation score did not improve more than tol=0.000100 for two consecutive epochs. Stopping.\n"
          ],
          "name": "stdout"
        },
        {
          "output_type": "execute_result",
          "data": {
            "text/plain": [
              "MLPClassifier(activation='relu', alpha=0.001, batch_size='auto', beta_1=0.9,\n",
              "       beta_2=0.999, early_stopping=True, epsilon=1e-08,\n",
              "       hidden_layer_sizes=128, learning_rate='constant',\n",
              "       learning_rate_init=0.001, max_iter=200, momentum=0.9,\n",
              "       nesterovs_momentum=True, power_t=0.5, random_state=None,\n",
              "       shuffle=True, solver='adam', tol=0.0001, validation_fraction=0.1,\n",
              "       verbose=True, warm_start=False)"
            ]
          },
          "metadata": {
            "tags": []
          },
          "execution_count": 73
        }
      ]
    },
    {
      "metadata": {
        "id": "SmuL2uuz-GTK",
        "colab_type": "code",
        "outputId": "af9901d8-a7f7-4edf-99a6-18d1c9a7745b",
        "colab": {
          "base_uri": "https://localhost:8080/",
          "height": 34
        }
      },
      "cell_type": "code",
      "source": [
        "# Number of output layers\n",
        "print(clf.n_outputs_)"
      ],
      "execution_count": 63,
      "outputs": [
        {
          "output_type": "stream",
          "text": [
            "1000\n"
          ],
          "name": "stdout"
        }
      ]
    },
    {
      "metadata": {
        "id": "zR--nciAFk8L",
        "colab_type": "code",
        "outputId": "627640e0-ce89-4ca0-e45e-3d8dd0e51fee",
        "colab": {
          "base_uri": "https://localhost:8080/",
          "height": 34
        }
      },
      "cell_type": "code",
      "source": [
        "# Test MLP algorithm\n",
        "estimated_labels = clf.predict(test_data).reshape(test_labels.shape)\n",
        "error_rate = np.count_nonzero( estimated_labels - test_labels ) / len(estimated_labels)\n",
        "print(\"Error rate = %.5f\" % error_rate)"
      ],
      "execution_count": 74,
      "outputs": [
        {
          "output_type": "stream",
          "text": [
            "Error rate = 0.08519\n"
          ],
          "name": "stdout"
        }
      ]
    },
    {
      "metadata": {
        "id": "vy53Zx-gc-69",
        "colab_type": "text"
      },
      "cell_type": "markdown",
      "source": [
        "### Results obtained so far\n"
      ]
    },
    {
      "metadata": {
        "id": "b9-0e_yRd6Z1",
        "colab_type": "text"
      },
      "cell_type": "markdown",
      "source": [
        "Copy and paste the message that is automatiacally created below together with the setup of the MLP algorithm\n",
        "\n",
        "\n",
        "\n",
        "Error rate = 0.003675, NUM_USERS = 500, NUM_FEATURES = 256, NUM_SAMPLES = 400, bsc_e = 0.3, hidden_layer_sizes=(128, 64, 32)\n",
        "\n",
        "Error rate = 0.014750, NUM_USERS = 500, NUM_FEATURES = 256, NUM_SAMPLES = 400, bsc_e = 0.3, hidden_layer_sizes=(128, 64, 32, 16)\n",
        "\n",
        "Error rate = 0.320275, NUM_USERS = 500, NUM_FEATURES = 256, NUM_SAMPLES = 400, bsc_e = 0.3, hidden_layer_sizes=(128, 64, 32)\n",
        "\n",
        "Error rate = 0.2544625, NUM_USERS = 1000, NUM_FEATURES = 64, NUM_SAMPLES = 400, bsc_e = 0.2\n",
        "\n",
        "Error rate = 0.2443, NUM_USERS = 1500, NUM_FEATURES = 128, NUM_SAMPLES = 200, bsc_e = 0.2"
      ]
    },
    {
      "metadata": {
        "id": "wifheRFedBSJ",
        "colab_type": "code",
        "outputId": "b5bc8be0-0218-4996-939c-3d745f10e636",
        "colab": {
          "base_uri": "https://localhost:8080/",
          "height": 34
        }
      },
      "cell_type": "code",
      "source": [
        "msg = \"Error rate = {0}, NUM_USERS = {1}, NUM_FEATURES = {2}, \" \\\n",
        "       \"NUM_SAMPLES = {3}, bsc_e = {4}\".format(error_rate,\n",
        "                                             NUM_USERS,\n",
        "                                             NUM_FEATURES,\n",
        "                                             NUM_SAMPLES,\n",
        "                                             bsc_e)\n",
        "print(msg)"
      ],
      "execution_count": 65,
      "outputs": [
        {
          "output_type": "stream",
          "text": [
            "Error rate = 0.0011333333333333334, NUM_USERS = 1000, NUM_FEATURES = 128, NUM_SAMPLES = 150, bsc_e = 0.2\n"
          ],
          "name": "stdout"
        }
      ]
    },
    {
      "metadata": {
        "id": "hBSZKBMTdwMx",
        "colab_type": "code",
        "colab": {}
      },
      "cell_type": "code",
      "source": [
        ""
      ],
      "execution_count": 0,
      "outputs": []
    }
  ]
}