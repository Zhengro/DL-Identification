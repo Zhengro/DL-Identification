{
  "nbformat": 4,
  "nbformat_minor": 0,
  "metadata": {
    "colab": {
      "name": "Map_noisyObs_to_indexes.ipynb",
      "version": "0.3.2",
      "provenance": [],
      "collapsed_sections": [],
      "include_colab_link": true
    },
    "kernelspec": {
      "name": "python3",
      "display_name": "Python 3"
    },
    "accelerator": "GPU"
  },
  "cells": [
    {
      "cell_type": "markdown",
      "metadata": {
        "id": "view-in-github",
        "colab_type": "text"
      },
      "source": [
        "<a href=\"https://colab.research.google.com/github/Zhengro/DL-Identification/blob/jaume/Map_noisyObs_to_indexes.ipynb\" target=\"_parent\"><img src=\"https://colab.research.google.com/assets/colab-badge.svg\" alt=\"Open In Colab\"/></a>"
      ]
    },
    {
      "metadata": {
        "id": "bGbpez8STyqr",
        "colab_type": "code",
        "colab": {}
      },
      "cell_type": "code",
      "source": [
        "__author__ = ''"
      ],
      "execution_count": 0,
      "outputs": []
    },
    {
      "metadata": {
        "id": "R391B8_NbeYO",
        "colab_type": "text"
      },
      "cell_type": "markdown",
      "source": [
        "### Import all necessary libraries and establish connection with Google Drive"
      ]
    },
    {
      "metadata": {
        "id": "epcN9Bbvb2fG",
        "colab_type": "code",
        "colab": {}
      },
      "cell_type": "code",
      "source": [
        "# Load main libraries for the project\n",
        "from sklearn.neural_network import MLPClassifier\n",
        "from sklearn.model_selection import train_test_split\n",
        "import numpy as np"
      ],
      "execution_count": 0,
      "outputs": []
    },
    {
      "metadata": {
        "id": "8fUeRaMX55rK",
        "colab_type": "code",
        "outputId": "b3ff5131-99fc-46e8-cc32-62e086c01c66",
        "colab": {
          "base_uri": "https://localhost:8080/",
          "height": 34
        }
      },
      "cell_type": "code",
      "source": [
        "# Load the Drive helper and mount\n",
        "from google.colab import drive\n",
        "\n",
        "# This will prompt for authorization.\n",
        "drive.mount('/content/drive')"
      ],
      "execution_count": 0,
      "outputs": [
        {
          "output_type": "stream",
          "text": [
            "Drive already mounted at /content/drive; to attempt to forcibly remount, call drive.mount(\"/content/drive\", force_remount=True).\n"
          ],
          "name": "stdout"
        }
      ]
    },
    {
      "metadata": {
        "id": "yvoM3Y3VWabw",
        "colab_type": "code",
        "colab": {}
      },
      "cell_type": "code",
      "source": [
        "# All the data needed for this notebook is stored in MAIN_PATH\n",
        "MAIN_PATH = \"/content/drive/My Drive/Colab Notebooks/\""
      ],
      "execution_count": 0,
      "outputs": []
    },
    {
      "metadata": {
        "id": "VfH8blytbTqV",
        "colab_type": "text"
      },
      "cell_type": "markdown",
      "source": [
        "### Read all user's data"
      ]
    },
    {
      "metadata": {
        "id": "if39yBbY6Dj1",
        "colab_type": "code",
        "outputId": "3b2a0783-4081-4f2a-f32e-6ab8f3065121",
        "colab": {
          "base_uri": "https://localhost:8080/",
          "height": 51
        }
      },
      "cell_type": "code",
      "source": [
        "# Main parameters of the fingerprints\n",
        "DATA_FILENAME = MAIN_PATH + 'data/userData_500_256.npy'\n",
        "\n",
        "# Read data from all the fingerprints\n",
        "userData = np.load(DATA_FILENAME)\n",
        "\n",
        "# Create main parameters\n",
        "NUM_USERS, NUM_FEATURES = userData.shape\n",
        "\n",
        "print(NUM_USERS)\n",
        "print(NUM_FEATURES)"
      ],
      "execution_count": 0,
      "outputs": [
        {
          "output_type": "stream",
          "text": [
            "500\n",
            "256\n"
          ],
          "name": "stdout"
        }
      ]
    },
    {
      "metadata": {
        "id": "f5BajNayig3N",
        "colab_type": "text"
      },
      "cell_type": "markdown",
      "source": [
        "### Generate user's data"
      ]
    },
    {
      "metadata": {
        "id": "k4Y2mpIiigSz",
        "colab_type": "code",
        "colab": {}
      },
      "cell_type": "code",
      "source": [
        "# Main parameters\n",
        "NUM_USERS = 500\n",
        "NUM_FEATURES = 64\n",
        "bsc_e = 0.2\n",
        "\n",
        "# Generate user data\n",
        "userData = np.random.choice([0,1],(NUM_USERS,NUM_FEATURES))"
      ],
      "execution_count": 0,
      "outputs": []
    },
    {
      "metadata": {
        "id": "Tv6_Vt5xjI7-",
        "colab_type": "text"
      },
      "cell_type": "markdown",
      "source": [
        "### Functions for generating the data"
      ]
    },
    {
      "metadata": {
        "id": "Fx_wbnuH2gsL",
        "colab_type": "code",
        "colab": {}
      },
      "cell_type": "code",
      "source": [
        "def bsc(bit_sequence, bsc_e):\n",
        "    \"\"\"\n",
        "    Binary Symmetric Channel.\n",
        "    Parameters\n",
        "    ----------\n",
        "    input_bits : 1D ndarray containing {0, 1}\n",
        "        Input arrary of bits to the channel.\n",
        "    p_t : float in [0, 1]\n",
        "        Transition/Error probability of the channel.\n",
        "    Returns\n",
        "    -------\n",
        "    output_bits : 1D ndarray containing {0, 1}\n",
        "        Output bits from the channel.\n",
        "    \"\"\"\n",
        "    flipped_bits = np.random.choice([0,1],bit_sequence.shape,p=[1.0-bsc_e,bsc_e])\n",
        "    output_bits = np.absolute(np.subtract(bit_sequence,flipped_bits))\n",
        "    return output_bits"
      ],
      "execution_count": 0,
      "outputs": []
    },
    {
      "metadata": {
        "id": "ECJcS7hk9cS_",
        "colab_type": "code",
        "outputId": "0cd24932-c5ff-4fa7-e2b3-da06d7b572cb",
        "colab": {
          "base_uri": "https://localhost:8080/",
          "height": 34
        }
      },
      "cell_type": "code",
      "source": [
        "# Test bsc function\n",
        "input_bits = np.zeros((100,1))\n",
        "output_bits = bsc(input_bits,bsc_e)\n",
        "print(np.count_nonzero(output_bits)/output_bits.shape[0])\n"
      ],
      "execution_count": 0,
      "outputs": [
        {
          "output_type": "stream",
          "text": [
            "0.18\n"
          ],
          "name": "stdout"
        }
      ]
    },
    {
      "metadata": {
        "id": "xRKz-4BHdJfo",
        "colab_type": "text"
      },
      "cell_type": "markdown",
      "source": [
        "### Classification algorithm"
      ]
    },
    {
      "metadata": {
        "id": "sH_SjKUoWPQF",
        "colab_type": "code",
        "outputId": "2db13c14-2e59-4c6c-c133-6d384f4df8f7",
        "colab": {
          "base_uri": "https://localhost:8080/",
          "height": 85
        }
      },
      "cell_type": "code",
      "source": [
        "# Construct train set and test set\n",
        "NUM_SAMPLES = 400 # Number of noisy samples for each user\n",
        "X = np.zeros((NUM_USERS*NUM_SAMPLES,NUM_FEATURES))\n",
        "Y = np.zeros((NUM_USERS*NUM_SAMPLES, 1))\n",
        "\n",
        "for k in range(NUM_USERS):\n",
        "    for n in range(NUM_SAMPLES):\n",
        "        X[n + k*NUM_SAMPLES, :] = bsc(np.int_(userData[k, :]), bsc_e)\n",
        "        Y[n + k*NUM_SAMPLES, :] = k\n",
        "\n",
        "train_data, test_data, train_labels, test_labels = train_test_split(X,Y,test_size=0.2,shuffle=True)\n",
        "print(train_data.shape)\n",
        "print(test_data.shape)\n",
        "print(train_labels.shape)\n",
        "print(test_labels.shape)"
      ],
      "execution_count": 0,
      "outputs": [
        {
          "output_type": "stream",
          "text": [
            "(160000, 64)\n",
            "(40000, 64)\n",
            "(160000, 1)\n",
            "(40000, 1)\n"
          ],
          "name": "stdout"
        }
      ]
    },
    {
      "metadata": {
        "id": "KBv0KP1qE1iG",
        "colab_type": "code",
        "outputId": "f3b2851d-2998-459f-fc74-d685cf814aa8",
        "colab": {
          "base_uri": "https://localhost:8080/",
          "height": 391
        }
      },
      "cell_type": "code",
      "source": [
        "# Build MLP model and train the NN\n",
        "clf = MLPClassifier(hidden_layer_sizes=(128,64,32), activation='relu',\n",
        "                    solver='adam', verbose=True, alpha=0.001) \n",
        "clf.fit(train_data,train_labels)"
      ],
      "execution_count": 0,
      "outputs": [
        {
          "output_type": "stream",
          "text": [
            "/usr/local/lib/python3.6/dist-packages/sklearn/neural_network/multilayer_perceptron.py:912: DataConversionWarning: A column-vector y was passed when a 1d array was expected. Please change the shape of y to (n_samples, ), for example using ravel().\n",
            "  y = column_or_1d(y, warn=True)\n"
          ],
          "name": "stderr"
        },
        {
          "output_type": "stream",
          "text": [
            "Iteration 1, loss = 5.42062742\n",
            "Iteration 2, loss = 4.67191183\n",
            "Iteration 3, loss = 4.52609949\n",
            "Iteration 4, loss = 4.45242961\n",
            "Iteration 5, loss = 4.39863485\n",
            "Iteration 6, loss = 4.35651323\n",
            "Iteration 7, loss = 4.32090425\n",
            "Iteration 8, loss = 4.28950537\n",
            "Iteration 9, loss = 4.25885814\n",
            "Iteration 10, loss = 4.23226353\n",
            "Iteration 11, loss = 4.20767621\n",
            "Iteration 12, loss = 4.18304565\n",
            "Iteration 13, loss = 4.16313497\n",
            "Iteration 14, loss = 4.14022265\n",
            "Iteration 15, loss = 4.12118403\n"
          ],
          "name": "stdout"
        }
      ]
    },
    {
      "metadata": {
        "id": "SmuL2uuz-GTK",
        "colab_type": "code",
        "outputId": "cc24d2b0-7b95-44aa-e04a-a3874fb0a71b",
        "colab": {
          "base_uri": "https://localhost:8080/",
          "height": 35
        }
      },
      "cell_type": "code",
      "source": [
        "# Print number of output layers\n",
        "print(clf.n_outputs_)"
      ],
      "execution_count": 0,
      "outputs": [
        {
          "output_type": "stream",
          "text": [
            "500\n"
          ],
          "name": "stdout"
        }
      ]
    },
    {
      "metadata": {
        "id": "zR--nciAFk8L",
        "colab_type": "code",
        "outputId": "f162b3ac-7b65-4240-b311-48c413bb4985",
        "colab": {
          "base_uri": "https://localhost:8080/",
          "height": 41
        }
      },
      "cell_type": "code",
      "source": [
        "# Test MLP algorithm\n",
        "estimated_labels = clf.predict(test_data).reshape(test_labels.shape)\n",
        "error_rate = np.count_nonzero( estimated_labels - test_labels ) / len(estimated_labels)\n",
        "print(\"Error rate = %.5f\" % error_rate)"
      ],
      "execution_count": 0,
      "outputs": [
        {
          "output_type": "stream",
          "text": [
            "Error rate = 0.09695\n"
          ],
          "name": "stdout"
        }
      ]
    },
    {
      "metadata": {
        "id": "vy53Zx-gc-69",
        "colab_type": "text"
      },
      "cell_type": "markdown",
      "source": [
        "### Results obtained so far\n"
      ]
    },
    {
      "metadata": {
        "id": "b9-0e_yRd6Z1",
        "colab_type": "text"
      },
      "cell_type": "markdown",
      "source": [
        "Copy and paste the message that is automatiacally created below together with the setup of the MLP algorithm\n",
        "\n",
        "\n",
        "\n",
        "Error rate = 0.003675, NUM_USERS = 500, NUM_FEATURES = 256, NUM_SAMPLES = 400, bsc_e = 0.3, hidden_layer_sizes=(128, 64, 32)\n",
        "\n",
        "Error rate = 0.014750, NUM_USERS = 500, NUM_FEATURES = 256, NUM_SAMPLES = 400, bsc_e = 0.3, hidden_layer_sizes=(128, 64, 32, 16)\n",
        "\n",
        "Error rate = 0.320275, NUM_USERS = 500, NUM_FEATURES = 256, NUM_SAMPLES = 400, bsc_e = 0.3, hidden_layer_sizes=(128, 64, 32)"
      ]
    },
    {
      "metadata": {
        "id": "wifheRFedBSJ",
        "colab_type": "code",
        "outputId": "262ce1c6-713d-4b80-c571-08069a5c56bc",
        "colab": {
          "base_uri": "https://localhost:8080/",
          "height": 34
        }
      },
      "cell_type": "code",
      "source": [
        "msg = \"Error rate = {0}, NUM_USERS = {1}, NUM_FEATURES = {2}, NUM_SAMPLES = {3}, bsc_e = {4}\".format(error_rate,\n",
        "                                                                                                     NUM_USERS,\n",
        "                                                                                                     NUM_FEATURES,\n",
        "                                                                                                     NUM_SAMPLES,\n",
        "                                                                                                     bsc_e)\n",
        "print(msg)"
      ],
      "execution_count": 0,
      "outputs": [
        {
          "output_type": "stream",
          "text": [
            "Error rate = 0.09695, NUM_USERS = 500, NUM_FEATURES = 128, NUM_SAMPLES = 400, bsc_e = 0.2\n"
          ],
          "name": "stdout"
        }
      ]
    },
    {
      "metadata": {
        "id": "hBSZKBMTdwMx",
        "colab_type": "code",
        "colab": {}
      },
      "cell_type": "code",
      "source": [
        ""
      ],
      "execution_count": 0,
      "outputs": []
    }
  ]
}