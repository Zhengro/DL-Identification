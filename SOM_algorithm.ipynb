{
  "nbformat": 4,
  "nbformat_minor": 0,
  "metadata": {
    "colab": {
      "name": "SOM_algorithm.ipynb",
      "version": "0.3.2",
      "provenance": [],
      "collapsed_sections": [],
      "include_colab_link": true
    },
    "kernelspec": {
      "name": "python3",
      "display_name": "Python 3"
    }
  },
  "cells": [
    {
      "cell_type": "markdown",
      "metadata": {
        "id": "view-in-github",
        "colab_type": "text"
      },
      "source": [
        "<a href=\"https://colab.research.google.com/github/Zhengro/DL-Identification/blob/jaume/SOM_algorithm.ipynb\" target=\"_parent\"><img src=\"https://colab.research.google.com/assets/colab-badge.svg\" alt=\"Open In Colab\"/></a>"
      ]
    },
    {
      "metadata": {
        "id": "Wb2hP7scHz_a",
        "colab_type": "code",
        "colab": {}
      },
      "cell_type": "code",
      "source": [
        "import numpy as np\n",
        "\n",
        "__author__ = 'Jaume Anguera Peris'\n",
        "\n",
        "class SOM:\n",
        "\n",
        "    DEFAULT_NUM_EPOCHS = 200\n",
        "    DEFAULT_INIT_LEARN_RATE = 0.4\n",
        "\n",
        "    # Initialization\n",
        "    def __init__(self, net_dim_x, net_dim_y, num_features,\n",
        "                 num_epochs=DEFAULT_NUM_EPOCHS,\n",
        "                 init_learning_rate=DEFAULT_INIT_LEARN_RATE):\n",
        "        self.net_dimensions = np.array([net_dim_x,net_dim_y])\n",
        "        self.num_features = num_features\n",
        "        self.num_epochs = num_epochs\n",
        "        self.init_learning_rate = init_learning_rate\n",
        "        self.init_radius = min(self.net_dimensions[0],self.net_dimensions[1])\n",
        "        self.time_constant = num_epochs / np.log(self.init_radius)\n",
        "        self.generate_weight_matrix()\n",
        "\n",
        "    # Functions\n",
        "    def generate_weight_matrix(self):\n",
        "        self.net_weights = np.random.random((self.num_features,self.net_dimensions[0],self.net_dimensions[1]))\n",
        "\n",
        "    def train(self, inputData, verbose=True):\n",
        "\n",
        "        if verbose is True:\n",
        "            msg_interval = 10\n",
        "\n",
        "        for i in range(self.num_epochs):\n",
        "            radius = self.decay_radius(i)\n",
        "            learning_rate = self.decay_learning_rate(i)\n",
        "\n",
        "            if verbose and (i % msg_interval == 0):\n",
        "                print(\"Iteration %d out of %d\" % (i,self.num_epochs))\n",
        "                print(\"Radius = %.2f\" % radius)\n",
        "                print(\"Learning rate = %.2e\\n\" % learning_rate)\n",
        "\n",
        "            bmu_ind = self.predict_cluster(inputData)\n",
        "\n",
        "            for x in range(self.net_dimensions[0]):\n",
        "                for y in range(self.net_dimensions[1]):\n",
        "                    node_position = np.array([x, y])\n",
        "                    weight_k = self.net_weights[:, x, y].reshape(1, self.num_features)\n",
        "                    for sample_ind in range(inputData.shape[0]):\n",
        "                        distance_between_nodes = SOM.euclidean_dist(node_position, bmu_ind[sample_ind])\n",
        "                        if distance_between_nodes <= radius ** 2:\n",
        "                            input_vec = inputData[sample_ind,:]\n",
        "                            step_size = learning_rate * SOM.neighborhood_influence(distance_between_nodes, radius)\n",
        "                            updated_weight = weight_k + (step_size * (input_vec - weight_k))\n",
        "                            self.net_weights[:, x, y] = updated_weight.reshape(self.num_features,)\n",
        "\n",
        "\n",
        "    def predict_cluster(self, inputData, saveData=False, fileName='cluster_ind.txt'):\n",
        "        cluster_ind = []\n",
        "\n",
        "        for user in range(inputData.shape[0]):\n",
        "            input_vec = inputData[user, :]\n",
        "            cluster_ind.append(self.find_bmu(input_vec))\n",
        "\n",
        "        if saveData is True:\n",
        "            np.savetxt(fileName, cluster_ind, fmt='[%d,%d]', delimiter=',')\n",
        "\n",
        "        return cluster_ind\n",
        "\n",
        "    def decay_radius(self, iteration):\n",
        "        return( self.init_radius * np.exp(-iteration/self.time_constant) )\n",
        "\n",
        "    def decay_learning_rate(self, iteration):\n",
        "        return ( self.init_learning_rate * np.exp(-iteration/self.num_epochs) )\n",
        "\n",
        "    @staticmethod\n",
        "    def euclidean_dist(first_vector, second_vector):\n",
        "        return ( np.sum((first_vector - second_vector) ** 2) )\n",
        "\n",
        "    @staticmethod\n",
        "    def neighborhood_influence(distance, radius):\n",
        "        return ( np.exp(-distance/(2 * (radius ** 2))) )\n",
        "\n",
        "    def find_bmu(self, input_vec):\n",
        "        bmu_ind = np.array([0, 0])\n",
        "        bmu_init = self.net_weights[:, 0, 0].reshape(1, self.num_features)\n",
        "        min_dist = self.euclidean_dist(input_vec, bmu_init)\n",
        "\n",
        "        for x in range(self.net_dimensions[0]):\n",
        "            for y in range(self.net_dimensions[1]):\n",
        "                weight_k = self.net_weights[:, x, y].reshape(1, self.num_features)\n",
        "                distance_between_vectors = SOM.euclidean_dist(input_vec, weight_k)\n",
        "                if min_dist > distance_between_vectors:\n",
        "                    min_dist = distance_between_vectors\n",
        "                    bmu_ind = np.array([x, y])\n",
        "\n",
        "        return bmu_ind\n"
      ],
      "execution_count": 0,
      "outputs": []
    },
    {
      "metadata": {
        "id": "QcTsSgIjH17M",
        "colab_type": "code",
        "colab": {}
      },
      "cell_type": "code",
      "source": [
        ""
      ],
      "execution_count": 0,
      "outputs": []
    }
  ]
}